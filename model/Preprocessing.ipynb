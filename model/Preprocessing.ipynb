{
  "cells": [
    {
      "cell_type": "markdown",
      "metadata": {
        "id": "Ns_BHHOx6qrr"
      },
      "source": [
        "# Load the data"
      ]
    },
    {
      "cell_type": "code",
      "execution_count": 20,
      "metadata": {
        "id": "U-i6Nwdh8obg"
      },
      "outputs": [],
      "source": [
        "%%capture\n",
        "!pip install -U fashion-clip"
      ]
    },
    {
      "cell_type": "code",
      "execution_count": 26,
      "metadata": {
        "id": "_WuRqTTb8qFZ"
      },
      "outputs": [],
      "source": [
        "import sys\n",
        "# sys.path.append(\"fashion-clip/\")\n",
        "from fashion_clip.fashion_clip import FashionCLIP\n",
        "import pandas as pd\n",
        "import numpy as np\n",
        "from collections import Counter\n",
        "from PIL import Image\n",
        "import requests\n",
        "from io import BytesIO\n",
        "import zipfile"
      ]
    },
    {
      "cell_type": "code",
      "execution_count": 22,
      "metadata": {
        "id": "yNAnt9VBcGxN"
      },
      "outputs": [],
      "source": [
        "%%capture\n",
        "fclip = FashionCLIP('fashion-clip')"
      ]
    },
    {
      "cell_type": "code",
      "execution_count": 23,
      "metadata": {
        "id": "5jnvLFml94kz"
      },
      "outputs": [],
      "source": [
        "# Link to the zip file\n",
        "url = \"https://drive.google.com/file/d/1Y-CseR1n75De_eCN9aCVEIRlqY_MmqjP/view\"\n",
        "\n",
        "# Extract the file ID from the link\n",
        "file_id = url.split(\"/\")[-2]\n",
        "\n",
        "# Create the download link\n",
        "download_link = f\"https://drive.google.com/uc?id={file_id}\""
      ]
    },
    {
      "cell_type": "code",
      "execution_count": 27,
      "metadata": {
        "id": "U1lrlDfkwe2w"
      },
      "outputs": [],
      "source": [
        "# Download the content of the zip file\n",
        "response = requests.get(download_link)\n",
        "zip_data = BytesIO(response.content)\n",
        "\n",
        "# Unzip the file\n",
        "with zipfile.ZipFile(zip_data, 'r') as zip_ref:\n",
        "    # Get the list of files in the zip\n",
        "    file_list = zip_ref.namelist()\n",
        "\n",
        "    # Choose the Excel file from the list (assuming only one Excel file)\n",
        "    excel_file = [file for file in file_list if file.endswith('.xlsx')][0]\n",
        "\n",
        "    # Read data from the Excel file using pandas\n",
        "    df = pd.read_excel(zip_ref.open(excel_file))"
      ]
    },
    {
      "cell_type": "code",
      "execution_count": 28,
      "metadata": {
        "colab": {
          "base_uri": "https://localhost:8080/",
          "height": 608
        },
        "id": "x0s7tCm99-y6",
        "outputId": "92d8152b-a302-4ea8-8ad1-09eaac82bc6f"
      },
      "outputs": [
        {
          "output_type": "execute_result",
          "data": {
            "text/plain": [
              "   Unnamed: 0                                      name   price  \\\n",
              "0        2572                   Adilette Comfort Slides   32.00   \n",
              "1          52  Nike Sportswear Swoosh Puffer PrimaLoft®  225.97   \n",
              "2         500       Jordan Artist Series by Jordan Moss   66.97   \n",
              "3         622                     X_PLRPHASE Shoes Kids   80.00   \n",
              "4        1681                        Gazelle Bold Shoes  120.00   \n",
              "\n",
              "                                         description  review_count avg_rating  \\\n",
              "0  Classic sport sandals with a lightweight feel....       11534.0        4.7   \n",
              "1  Stay warm on the coldest days by bundling up i...          18.0        4,4   \n",
              "2  Jordan Moss is a Brooklyn based illustrator an...           0.0          0   \n",
              "3  Comfortable sneakers made in part with recycle...          53.0        4.6   \n",
              "4  A platform shoe that adds modern looks to an i...         408.0        4.6   \n",
              "\n",
              "         scraped_at                                       color   brand  \\\n",
              "0  12/13/2023 20:47      Core Black / Cloud White / Cloud White  Adidas   \n",
              "1        2023-12-13                                 White/Black    Nike   \n",
              "2        2023-12-14                              Dark Driftwood    Nike   \n",
              "3   12/14/2023 0:17  Cloud White / Magic Grey Met / Bliss Lilac  Adidas   \n",
              "4  12/13/2023 19:45     Cloud White / Cloud White / Cloud White  Adidas   \n",
              "\n",
              "  currency                                                url availability  \\\n",
              "0      USD  https://www.adidas.com/us/adilette-comfort-sli...      INSTOCK   \n",
              "1      USD  https://www.nike.com/t/sportswear-swoosh-puffe...      InStock   \n",
              "2      USD  https://www.nike.com/t/jordan-artist-series-by...      InStock   \n",
              "3      USD  https://www.adidas.com/us/x_plrphase-shoes-kid...      INSTOCK   \n",
              "4      USD  https://www.adidas.com/us/gazelle-bold-shoes/I...      INSTOCK   \n",
              "\n",
              "                                              images  \n",
              "0  ['https://assets.adidas.com/images/w_600,f_aut...  \n",
              "1  https://static.nike.com/a/images/t_default/e5c...  \n",
              "2  https://static.nike.com/a/images/t_default/u_1...  \n",
              "3  ['https://assets.adidas.com/images/w_600,f_aut...  \n",
              "4  ['https://assets.adidas.com/images/w_600,f_aut...  "
            ],
            "text/html": [
              "\n",
              "  <div id=\"df-98f1b180-7043-4240-b43c-449b48f2dd52\" class=\"colab-df-container\">\n",
              "    <div>\n",
              "<style scoped>\n",
              "    .dataframe tbody tr th:only-of-type {\n",
              "        vertical-align: middle;\n",
              "    }\n",
              "\n",
              "    .dataframe tbody tr th {\n",
              "        vertical-align: top;\n",
              "    }\n",
              "\n",
              "    .dataframe thead th {\n",
              "        text-align: right;\n",
              "    }\n",
              "</style>\n",
              "<table border=\"1\" class=\"dataframe\">\n",
              "  <thead>\n",
              "    <tr style=\"text-align: right;\">\n",
              "      <th></th>\n",
              "      <th>Unnamed: 0</th>\n",
              "      <th>name</th>\n",
              "      <th>price</th>\n",
              "      <th>description</th>\n",
              "      <th>review_count</th>\n",
              "      <th>avg_rating</th>\n",
              "      <th>scraped_at</th>\n",
              "      <th>color</th>\n",
              "      <th>brand</th>\n",
              "      <th>currency</th>\n",
              "      <th>url</th>\n",
              "      <th>availability</th>\n",
              "      <th>images</th>\n",
              "    </tr>\n",
              "  </thead>\n",
              "  <tbody>\n",
              "    <tr>\n",
              "      <th>0</th>\n",
              "      <td>2572</td>\n",
              "      <td>Adilette Comfort Slides</td>\n",
              "      <td>32.00</td>\n",
              "      <td>Classic sport sandals with a lightweight feel....</td>\n",
              "      <td>11534.0</td>\n",
              "      <td>4.7</td>\n",
              "      <td>12/13/2023 20:47</td>\n",
              "      <td>Core Black / Cloud White / Cloud White</td>\n",
              "      <td>Adidas</td>\n",
              "      <td>USD</td>\n",
              "      <td>https://www.adidas.com/us/adilette-comfort-sli...</td>\n",
              "      <td>INSTOCK</td>\n",
              "      <td>['https://assets.adidas.com/images/w_600,f_aut...</td>\n",
              "    </tr>\n",
              "    <tr>\n",
              "      <th>1</th>\n",
              "      <td>52</td>\n",
              "      <td>Nike Sportswear Swoosh Puffer PrimaLoft®</td>\n",
              "      <td>225.97</td>\n",
              "      <td>Stay warm on the coldest days by bundling up i...</td>\n",
              "      <td>18.0</td>\n",
              "      <td>4,4</td>\n",
              "      <td>2023-12-13</td>\n",
              "      <td>White/Black</td>\n",
              "      <td>Nike</td>\n",
              "      <td>USD</td>\n",
              "      <td>https://www.nike.com/t/sportswear-swoosh-puffe...</td>\n",
              "      <td>InStock</td>\n",
              "      <td>https://static.nike.com/a/images/t_default/e5c...</td>\n",
              "    </tr>\n",
              "    <tr>\n",
              "      <th>2</th>\n",
              "      <td>500</td>\n",
              "      <td>Jordan Artist Series by Jordan Moss</td>\n",
              "      <td>66.97</td>\n",
              "      <td>Jordan Moss is a Brooklyn based illustrator an...</td>\n",
              "      <td>0.0</td>\n",
              "      <td>0</td>\n",
              "      <td>2023-12-14</td>\n",
              "      <td>Dark Driftwood</td>\n",
              "      <td>Nike</td>\n",
              "      <td>USD</td>\n",
              "      <td>https://www.nike.com/t/jordan-artist-series-by...</td>\n",
              "      <td>InStock</td>\n",
              "      <td>https://static.nike.com/a/images/t_default/u_1...</td>\n",
              "    </tr>\n",
              "    <tr>\n",
              "      <th>3</th>\n",
              "      <td>622</td>\n",
              "      <td>X_PLRPHASE Shoes Kids</td>\n",
              "      <td>80.00</td>\n",
              "      <td>Comfortable sneakers made in part with recycle...</td>\n",
              "      <td>53.0</td>\n",
              "      <td>4.6</td>\n",
              "      <td>12/14/2023 0:17</td>\n",
              "      <td>Cloud White / Magic Grey Met / Bliss Lilac</td>\n",
              "      <td>Adidas</td>\n",
              "      <td>USD</td>\n",
              "      <td>https://www.adidas.com/us/x_plrphase-shoes-kid...</td>\n",
              "      <td>INSTOCK</td>\n",
              "      <td>['https://assets.adidas.com/images/w_600,f_aut...</td>\n",
              "    </tr>\n",
              "    <tr>\n",
              "      <th>4</th>\n",
              "      <td>1681</td>\n",
              "      <td>Gazelle Bold Shoes</td>\n",
              "      <td>120.00</td>\n",
              "      <td>A platform shoe that adds modern looks to an i...</td>\n",
              "      <td>408.0</td>\n",
              "      <td>4.6</td>\n",
              "      <td>12/13/2023 19:45</td>\n",
              "      <td>Cloud White / Cloud White / Cloud White</td>\n",
              "      <td>Adidas</td>\n",
              "      <td>USD</td>\n",
              "      <td>https://www.adidas.com/us/gazelle-bold-shoes/I...</td>\n",
              "      <td>INSTOCK</td>\n",
              "      <td>['https://assets.adidas.com/images/w_600,f_aut...</td>\n",
              "    </tr>\n",
              "  </tbody>\n",
              "</table>\n",
              "</div>\n",
              "    <div class=\"colab-df-buttons\">\n",
              "\n",
              "  <div class=\"colab-df-container\">\n",
              "    <button class=\"colab-df-convert\" onclick=\"convertToInteractive('df-98f1b180-7043-4240-b43c-449b48f2dd52')\"\n",
              "            title=\"Convert this dataframe to an interactive table.\"\n",
              "            style=\"display:none;\">\n",
              "\n",
              "  <svg xmlns=\"http://www.w3.org/2000/svg\" height=\"24px\" viewBox=\"0 -960 960 960\">\n",
              "    <path d=\"M120-120v-720h720v720H120Zm60-500h600v-160H180v160Zm220 220h160v-160H400v160Zm0 220h160v-160H400v160ZM180-400h160v-160H180v160Zm440 0h160v-160H620v160ZM180-180h160v-160H180v160Zm440 0h160v-160H620v160Z\"/>\n",
              "  </svg>\n",
              "    </button>\n",
              "\n",
              "  <style>\n",
              "    .colab-df-container {\n",
              "      display:flex;\n",
              "      gap: 12px;\n",
              "    }\n",
              "\n",
              "    .colab-df-convert {\n",
              "      background-color: #E8F0FE;\n",
              "      border: none;\n",
              "      border-radius: 50%;\n",
              "      cursor: pointer;\n",
              "      display: none;\n",
              "      fill: #1967D2;\n",
              "      height: 32px;\n",
              "      padding: 0 0 0 0;\n",
              "      width: 32px;\n",
              "    }\n",
              "\n",
              "    .colab-df-convert:hover {\n",
              "      background-color: #E2EBFA;\n",
              "      box-shadow: 0px 1px 2px rgba(60, 64, 67, 0.3), 0px 1px 3px 1px rgba(60, 64, 67, 0.15);\n",
              "      fill: #174EA6;\n",
              "    }\n",
              "\n",
              "    .colab-df-buttons div {\n",
              "      margin-bottom: 4px;\n",
              "    }\n",
              "\n",
              "    [theme=dark] .colab-df-convert {\n",
              "      background-color: #3B4455;\n",
              "      fill: #D2E3FC;\n",
              "    }\n",
              "\n",
              "    [theme=dark] .colab-df-convert:hover {\n",
              "      background-color: #434B5C;\n",
              "      box-shadow: 0px 1px 3px 1px rgba(0, 0, 0, 0.15);\n",
              "      filter: drop-shadow(0px 1px 2px rgba(0, 0, 0, 0.3));\n",
              "      fill: #FFFFFF;\n",
              "    }\n",
              "  </style>\n",
              "\n",
              "    <script>\n",
              "      const buttonEl =\n",
              "        document.querySelector('#df-98f1b180-7043-4240-b43c-449b48f2dd52 button.colab-df-convert');\n",
              "      buttonEl.style.display =\n",
              "        google.colab.kernel.accessAllowed ? 'block' : 'none';\n",
              "\n",
              "      async function convertToInteractive(key) {\n",
              "        const element = document.querySelector('#df-98f1b180-7043-4240-b43c-449b48f2dd52');\n",
              "        const dataTable =\n",
              "          await google.colab.kernel.invokeFunction('convertToInteractive',\n",
              "                                                    [key], {});\n",
              "        if (!dataTable) return;\n",
              "\n",
              "        const docLinkHtml = 'Like what you see? Visit the ' +\n",
              "          '<a target=\"_blank\" href=https://colab.research.google.com/notebooks/data_table.ipynb>data table notebook</a>'\n",
              "          + ' to learn more about interactive tables.';\n",
              "        element.innerHTML = '';\n",
              "        dataTable['output_type'] = 'display_data';\n",
              "        await google.colab.output.renderOutput(dataTable, element);\n",
              "        const docLink = document.createElement('div');\n",
              "        docLink.innerHTML = docLinkHtml;\n",
              "        element.appendChild(docLink);\n",
              "      }\n",
              "    </script>\n",
              "  </div>\n",
              "\n",
              "\n",
              "<div id=\"df-1ea70e4e-8424-4701-a15a-c8fb20960f74\">\n",
              "  <button class=\"colab-df-quickchart\" onclick=\"quickchart('df-1ea70e4e-8424-4701-a15a-c8fb20960f74')\"\n",
              "            title=\"Suggest charts\"\n",
              "            style=\"display:none;\">\n",
              "\n",
              "<svg xmlns=\"http://www.w3.org/2000/svg\" height=\"24px\"viewBox=\"0 0 24 24\"\n",
              "     width=\"24px\">\n",
              "    <g>\n",
              "        <path d=\"M19 3H5c-1.1 0-2 .9-2 2v14c0 1.1.9 2 2 2h14c1.1 0 2-.9 2-2V5c0-1.1-.9-2-2-2zM9 17H7v-7h2v7zm4 0h-2V7h2v10zm4 0h-2v-4h2v4z\"/>\n",
              "    </g>\n",
              "</svg>\n",
              "  </button>\n",
              "\n",
              "<style>\n",
              "  .colab-df-quickchart {\n",
              "      --bg-color: #E8F0FE;\n",
              "      --fill-color: #1967D2;\n",
              "      --hover-bg-color: #E2EBFA;\n",
              "      --hover-fill-color: #174EA6;\n",
              "      --disabled-fill-color: #AAA;\n",
              "      --disabled-bg-color: #DDD;\n",
              "  }\n",
              "\n",
              "  [theme=dark] .colab-df-quickchart {\n",
              "      --bg-color: #3B4455;\n",
              "      --fill-color: #D2E3FC;\n",
              "      --hover-bg-color: #434B5C;\n",
              "      --hover-fill-color: #FFFFFF;\n",
              "      --disabled-bg-color: #3B4455;\n",
              "      --disabled-fill-color: #666;\n",
              "  }\n",
              "\n",
              "  .colab-df-quickchart {\n",
              "    background-color: var(--bg-color);\n",
              "    border: none;\n",
              "    border-radius: 50%;\n",
              "    cursor: pointer;\n",
              "    display: none;\n",
              "    fill: var(--fill-color);\n",
              "    height: 32px;\n",
              "    padding: 0;\n",
              "    width: 32px;\n",
              "  }\n",
              "\n",
              "  .colab-df-quickchart:hover {\n",
              "    background-color: var(--hover-bg-color);\n",
              "    box-shadow: 0 1px 2px rgba(60, 64, 67, 0.3), 0 1px 3px 1px rgba(60, 64, 67, 0.15);\n",
              "    fill: var(--button-hover-fill-color);\n",
              "  }\n",
              "\n",
              "  .colab-df-quickchart-complete:disabled,\n",
              "  .colab-df-quickchart-complete:disabled:hover {\n",
              "    background-color: var(--disabled-bg-color);\n",
              "    fill: var(--disabled-fill-color);\n",
              "    box-shadow: none;\n",
              "  }\n",
              "\n",
              "  .colab-df-spinner {\n",
              "    border: 2px solid var(--fill-color);\n",
              "    border-color: transparent;\n",
              "    border-bottom-color: var(--fill-color);\n",
              "    animation:\n",
              "      spin 1s steps(1) infinite;\n",
              "  }\n",
              "\n",
              "  @keyframes spin {\n",
              "    0% {\n",
              "      border-color: transparent;\n",
              "      border-bottom-color: var(--fill-color);\n",
              "      border-left-color: var(--fill-color);\n",
              "    }\n",
              "    20% {\n",
              "      border-color: transparent;\n",
              "      border-left-color: var(--fill-color);\n",
              "      border-top-color: var(--fill-color);\n",
              "    }\n",
              "    30% {\n",
              "      border-color: transparent;\n",
              "      border-left-color: var(--fill-color);\n",
              "      border-top-color: var(--fill-color);\n",
              "      border-right-color: var(--fill-color);\n",
              "    }\n",
              "    40% {\n",
              "      border-color: transparent;\n",
              "      border-right-color: var(--fill-color);\n",
              "      border-top-color: var(--fill-color);\n",
              "    }\n",
              "    60% {\n",
              "      border-color: transparent;\n",
              "      border-right-color: var(--fill-color);\n",
              "    }\n",
              "    80% {\n",
              "      border-color: transparent;\n",
              "      border-right-color: var(--fill-color);\n",
              "      border-bottom-color: var(--fill-color);\n",
              "    }\n",
              "    90% {\n",
              "      border-color: transparent;\n",
              "      border-bottom-color: var(--fill-color);\n",
              "    }\n",
              "  }\n",
              "</style>\n",
              "\n",
              "  <script>\n",
              "    async function quickchart(key) {\n",
              "      const quickchartButtonEl =\n",
              "        document.querySelector('#' + key + ' button');\n",
              "      quickchartButtonEl.disabled = true;  // To prevent multiple clicks.\n",
              "      quickchartButtonEl.classList.add('colab-df-spinner');\n",
              "      try {\n",
              "        const charts = await google.colab.kernel.invokeFunction(\n",
              "            'suggestCharts', [key], {});\n",
              "      } catch (error) {\n",
              "        console.error('Error during call to suggestCharts:', error);\n",
              "      }\n",
              "      quickchartButtonEl.classList.remove('colab-df-spinner');\n",
              "      quickchartButtonEl.classList.add('colab-df-quickchart-complete');\n",
              "    }\n",
              "    (() => {\n",
              "      let quickchartButtonEl =\n",
              "        document.querySelector('#df-1ea70e4e-8424-4701-a15a-c8fb20960f74 button');\n",
              "      quickchartButtonEl.style.display =\n",
              "        google.colab.kernel.accessAllowed ? 'block' : 'none';\n",
              "    })();\n",
              "  </script>\n",
              "</div>\n",
              "\n",
              "    </div>\n",
              "  </div>\n"
            ]
          },
          "metadata": {},
          "execution_count": 28
        }
      ],
      "source": [
        "df.head()"
      ]
    },
    {
      "cell_type": "code",
      "execution_count": 29,
      "metadata": {
        "colab": {
          "base_uri": "https://localhost:8080/"
        },
        "id": "DfCZZJpT9_d0",
        "outputId": "9ee69800-6a4d-4666-ce1f-689bfd01d004"
      },
      "outputs": [
        {
          "output_type": "execute_result",
          "data": {
            "text/plain": [
              "(6272, 13)"
            ]
          },
          "metadata": {},
          "execution_count": 29
        }
      ],
      "source": [
        "df.shape"
      ]
    },
    {
      "cell_type": "code",
      "execution_count": 30,
      "metadata": {
        "colab": {
          "base_uri": "https://localhost:8080/"
        },
        "id": "ExmSgwWV-DNv",
        "outputId": "069f9dde-e3bf-415c-985b-1a97cf3ae441"
      },
      "outputs": [
        {
          "output_type": "execute_result",
          "data": {
            "text/plain": [
              "Index(['Unnamed: 0', 'name', 'price', 'description', 'review_count',\n",
              "       'avg_rating', 'scraped_at', 'color', 'brand', 'currency', 'url',\n",
              "       'availability', 'images'],\n",
              "      dtype='object')"
            ]
          },
          "metadata": {},
          "execution_count": 30
        }
      ],
      "source": [
        "df.columns"
      ]
    },
    {
      "cell_type": "markdown",
      "metadata": {
        "id": "dPxbrr7jwuFa"
      },
      "source": [
        "Rename the 'Unnamed: 0' into ID"
      ]
    },
    {
      "cell_type": "code",
      "execution_count": 31,
      "metadata": {
        "id": "UV8pRN-Z2ENL"
      },
      "outputs": [],
      "source": [
        "df.rename(columns={'Unnamed: 0': 'ID'}, inplace=True)"
      ]
    },
    {
      "cell_type": "markdown",
      "metadata": {
        "id": "0-4pqqWXw1Xd"
      },
      "source": [
        "Combine to column for more information about the product"
      ]
    },
    {
      "cell_type": "code",
      "execution_count": 32,
      "metadata": {
        "id": "oNJlSCVA-a7L"
      },
      "outputs": [],
      "source": [
        "# Concatenate 'description' and 'color' columns with a separator\n",
        "df['description'] = 'Color of product: ' + df['color'].astype(str) + '. ' + df['description']"
      ]
    },
    {
      "cell_type": "code",
      "execution_count": 33,
      "metadata": {
        "id": "qa75M8bSVn2P"
      },
      "outputs": [],
      "source": [
        "# Drop the unnessary columns from the DataFrame\n",
        "df = df.drop(columns=['price', 'review_count', 'avg_rating', 'scraped_at', 'color', 'brand', 'currency', 'availability'])"
      ]
    },
    {
      "cell_type": "code",
      "execution_count": 34,
      "metadata": {
        "id": "reBGQPFW9KpF"
      },
      "outputs": [],
      "source": [
        "# Drop null, duplicates\n",
        "df = df.dropna(subset=['images', 'description', 'name'])\n",
        "\n",
        "df = df.drop_duplicates()\n",
        "\n",
        "df = df.reset_index(drop=True)"
      ]
    },
    {
      "cell_type": "code",
      "execution_count": 35,
      "metadata": {
        "colab": {
          "base_uri": "https://localhost:8080/"
        },
        "id": "yvbMaoYX9Mxc",
        "outputId": "446b1744-7202-4ba7-f844-7feda4d291a2"
      },
      "outputs": [
        {
          "output_type": "execute_result",
          "data": {
            "text/plain": [
              "ID             0\n",
              "name           0\n",
              "description    0\n",
              "url            0\n",
              "images         0\n",
              "dtype: int64"
            ]
          },
          "metadata": {},
          "execution_count": 35
        }
      ],
      "source": [
        "df.isnull().sum()"
      ]
    },
    {
      "cell_type": "code",
      "execution_count": 36,
      "metadata": {
        "colab": {
          "base_uri": "https://localhost:8080/"
        },
        "id": "LoUF_xvrpk__",
        "outputId": "e0b88eea-1a14-4025-a6f3-77ee9cd7946d"
      },
      "outputs": [
        {
          "output_type": "stream",
          "name": "stdout",
          "text": [
            "No duplicates found.\n"
          ]
        }
      ],
      "source": [
        "check_duplicates = lambda df: df[df.duplicated()]\n",
        "\n",
        "duplicates = check_duplicates(df)\n",
        "\n",
        "if duplicates.empty:\n",
        "    print(\"No duplicates found.\")\n",
        "else:\n",
        "    print(\"Duplicates in:\")\n",
        "    print(duplicates)"
      ]
    },
    {
      "cell_type": "code",
      "execution_count": 37,
      "metadata": {
        "colab": {
          "base_uri": "https://localhost:8080/",
          "height": 206
        },
        "id": "OdRQ4k_D9OK3",
        "outputId": "0d4737f6-e234-474a-ebc4-b01ce2da4bdf"
      },
      "outputs": [
        {
          "output_type": "execute_result",
          "data": {
            "text/plain": [
              "     ID                                      name  \\\n",
              "0  2572                   Adilette Comfort Slides   \n",
              "1    52  Nike Sportswear Swoosh Puffer PrimaLoft®   \n",
              "2   500       Jordan Artist Series by Jordan Moss   \n",
              "3   622                     X_PLRPHASE Shoes Kids   \n",
              "4  1681                        Gazelle Bold Shoes   \n",
              "\n",
              "                                         description  \\\n",
              "0  Color of product: Core Black / Cloud White / C...   \n",
              "1  Color of product: White/Black. Stay warm on th...   \n",
              "2  Color of product: Dark Driftwood. Jordan Moss ...   \n",
              "3  Color of product: Cloud White / Magic Grey Met...   \n",
              "4  Color of product: Cloud White / Cloud White / ...   \n",
              "\n",
              "                                                 url  \\\n",
              "0  https://www.adidas.com/us/adilette-comfort-sli...   \n",
              "1  https://www.nike.com/t/sportswear-swoosh-puffe...   \n",
              "2  https://www.nike.com/t/jordan-artist-series-by...   \n",
              "3  https://www.adidas.com/us/x_plrphase-shoes-kid...   \n",
              "4  https://www.adidas.com/us/gazelle-bold-shoes/I...   \n",
              "\n",
              "                                              images  \n",
              "0  ['https://assets.adidas.com/images/w_600,f_aut...  \n",
              "1  https://static.nike.com/a/images/t_default/e5c...  \n",
              "2  https://static.nike.com/a/images/t_default/u_1...  \n",
              "3  ['https://assets.adidas.com/images/w_600,f_aut...  \n",
              "4  ['https://assets.adidas.com/images/w_600,f_aut...  "
            ],
            "text/html": [
              "\n",
              "  <div id=\"df-59a5738a-c5c1-4698-8ba5-ce29051c6802\" class=\"colab-df-container\">\n",
              "    <div>\n",
              "<style scoped>\n",
              "    .dataframe tbody tr th:only-of-type {\n",
              "        vertical-align: middle;\n",
              "    }\n",
              "\n",
              "    .dataframe tbody tr th {\n",
              "        vertical-align: top;\n",
              "    }\n",
              "\n",
              "    .dataframe thead th {\n",
              "        text-align: right;\n",
              "    }\n",
              "</style>\n",
              "<table border=\"1\" class=\"dataframe\">\n",
              "  <thead>\n",
              "    <tr style=\"text-align: right;\">\n",
              "      <th></th>\n",
              "      <th>ID</th>\n",
              "      <th>name</th>\n",
              "      <th>description</th>\n",
              "      <th>url</th>\n",
              "      <th>images</th>\n",
              "    </tr>\n",
              "  </thead>\n",
              "  <tbody>\n",
              "    <tr>\n",
              "      <th>0</th>\n",
              "      <td>2572</td>\n",
              "      <td>Adilette Comfort Slides</td>\n",
              "      <td>Color of product: Core Black / Cloud White / C...</td>\n",
              "      <td>https://www.adidas.com/us/adilette-comfort-sli...</td>\n",
              "      <td>['https://assets.adidas.com/images/w_600,f_aut...</td>\n",
              "    </tr>\n",
              "    <tr>\n",
              "      <th>1</th>\n",
              "      <td>52</td>\n",
              "      <td>Nike Sportswear Swoosh Puffer PrimaLoft®</td>\n",
              "      <td>Color of product: White/Black. Stay warm on th...</td>\n",
              "      <td>https://www.nike.com/t/sportswear-swoosh-puffe...</td>\n",
              "      <td>https://static.nike.com/a/images/t_default/e5c...</td>\n",
              "    </tr>\n",
              "    <tr>\n",
              "      <th>2</th>\n",
              "      <td>500</td>\n",
              "      <td>Jordan Artist Series by Jordan Moss</td>\n",
              "      <td>Color of product: Dark Driftwood. Jordan Moss ...</td>\n",
              "      <td>https://www.nike.com/t/jordan-artist-series-by...</td>\n",
              "      <td>https://static.nike.com/a/images/t_default/u_1...</td>\n",
              "    </tr>\n",
              "    <tr>\n",
              "      <th>3</th>\n",
              "      <td>622</td>\n",
              "      <td>X_PLRPHASE Shoes Kids</td>\n",
              "      <td>Color of product: Cloud White / Magic Grey Met...</td>\n",
              "      <td>https://www.adidas.com/us/x_plrphase-shoes-kid...</td>\n",
              "      <td>['https://assets.adidas.com/images/w_600,f_aut...</td>\n",
              "    </tr>\n",
              "    <tr>\n",
              "      <th>4</th>\n",
              "      <td>1681</td>\n",
              "      <td>Gazelle Bold Shoes</td>\n",
              "      <td>Color of product: Cloud White / Cloud White / ...</td>\n",
              "      <td>https://www.adidas.com/us/gazelle-bold-shoes/I...</td>\n",
              "      <td>['https://assets.adidas.com/images/w_600,f_aut...</td>\n",
              "    </tr>\n",
              "  </tbody>\n",
              "</table>\n",
              "</div>\n",
              "    <div class=\"colab-df-buttons\">\n",
              "\n",
              "  <div class=\"colab-df-container\">\n",
              "    <button class=\"colab-df-convert\" onclick=\"convertToInteractive('df-59a5738a-c5c1-4698-8ba5-ce29051c6802')\"\n",
              "            title=\"Convert this dataframe to an interactive table.\"\n",
              "            style=\"display:none;\">\n",
              "\n",
              "  <svg xmlns=\"http://www.w3.org/2000/svg\" height=\"24px\" viewBox=\"0 -960 960 960\">\n",
              "    <path d=\"M120-120v-720h720v720H120Zm60-500h600v-160H180v160Zm220 220h160v-160H400v160Zm0 220h160v-160H400v160ZM180-400h160v-160H180v160Zm440 0h160v-160H620v160ZM180-180h160v-160H180v160Zm440 0h160v-160H620v160Z\"/>\n",
              "  </svg>\n",
              "    </button>\n",
              "\n",
              "  <style>\n",
              "    .colab-df-container {\n",
              "      display:flex;\n",
              "      gap: 12px;\n",
              "    }\n",
              "\n",
              "    .colab-df-convert {\n",
              "      background-color: #E8F0FE;\n",
              "      border: none;\n",
              "      border-radius: 50%;\n",
              "      cursor: pointer;\n",
              "      display: none;\n",
              "      fill: #1967D2;\n",
              "      height: 32px;\n",
              "      padding: 0 0 0 0;\n",
              "      width: 32px;\n",
              "    }\n",
              "\n",
              "    .colab-df-convert:hover {\n",
              "      background-color: #E2EBFA;\n",
              "      box-shadow: 0px 1px 2px rgba(60, 64, 67, 0.3), 0px 1px 3px 1px rgba(60, 64, 67, 0.15);\n",
              "      fill: #174EA6;\n",
              "    }\n",
              "\n",
              "    .colab-df-buttons div {\n",
              "      margin-bottom: 4px;\n",
              "    }\n",
              "\n",
              "    [theme=dark] .colab-df-convert {\n",
              "      background-color: #3B4455;\n",
              "      fill: #D2E3FC;\n",
              "    }\n",
              "\n",
              "    [theme=dark] .colab-df-convert:hover {\n",
              "      background-color: #434B5C;\n",
              "      box-shadow: 0px 1px 3px 1px rgba(0, 0, 0, 0.15);\n",
              "      filter: drop-shadow(0px 1px 2px rgba(0, 0, 0, 0.3));\n",
              "      fill: #FFFFFF;\n",
              "    }\n",
              "  </style>\n",
              "\n",
              "    <script>\n",
              "      const buttonEl =\n",
              "        document.querySelector('#df-59a5738a-c5c1-4698-8ba5-ce29051c6802 button.colab-df-convert');\n",
              "      buttonEl.style.display =\n",
              "        google.colab.kernel.accessAllowed ? 'block' : 'none';\n",
              "\n",
              "      async function convertToInteractive(key) {\n",
              "        const element = document.querySelector('#df-59a5738a-c5c1-4698-8ba5-ce29051c6802');\n",
              "        const dataTable =\n",
              "          await google.colab.kernel.invokeFunction('convertToInteractive',\n",
              "                                                    [key], {});\n",
              "        if (!dataTable) return;\n",
              "\n",
              "        const docLinkHtml = 'Like what you see? Visit the ' +\n",
              "          '<a target=\"_blank\" href=https://colab.research.google.com/notebooks/data_table.ipynb>data table notebook</a>'\n",
              "          + ' to learn more about interactive tables.';\n",
              "        element.innerHTML = '';\n",
              "        dataTable['output_type'] = 'display_data';\n",
              "        await google.colab.output.renderOutput(dataTable, element);\n",
              "        const docLink = document.createElement('div');\n",
              "        docLink.innerHTML = docLinkHtml;\n",
              "        element.appendChild(docLink);\n",
              "      }\n",
              "    </script>\n",
              "  </div>\n",
              "\n",
              "\n",
              "<div id=\"df-1529cb20-cc99-414d-8685-23183d06f843\">\n",
              "  <button class=\"colab-df-quickchart\" onclick=\"quickchart('df-1529cb20-cc99-414d-8685-23183d06f843')\"\n",
              "            title=\"Suggest charts\"\n",
              "            style=\"display:none;\">\n",
              "\n",
              "<svg xmlns=\"http://www.w3.org/2000/svg\" height=\"24px\"viewBox=\"0 0 24 24\"\n",
              "     width=\"24px\">\n",
              "    <g>\n",
              "        <path d=\"M19 3H5c-1.1 0-2 .9-2 2v14c0 1.1.9 2 2 2h14c1.1 0 2-.9 2-2V5c0-1.1-.9-2-2-2zM9 17H7v-7h2v7zm4 0h-2V7h2v10zm4 0h-2v-4h2v4z\"/>\n",
              "    </g>\n",
              "</svg>\n",
              "  </button>\n",
              "\n",
              "<style>\n",
              "  .colab-df-quickchart {\n",
              "      --bg-color: #E8F0FE;\n",
              "      --fill-color: #1967D2;\n",
              "      --hover-bg-color: #E2EBFA;\n",
              "      --hover-fill-color: #174EA6;\n",
              "      --disabled-fill-color: #AAA;\n",
              "      --disabled-bg-color: #DDD;\n",
              "  }\n",
              "\n",
              "  [theme=dark] .colab-df-quickchart {\n",
              "      --bg-color: #3B4455;\n",
              "      --fill-color: #D2E3FC;\n",
              "      --hover-bg-color: #434B5C;\n",
              "      --hover-fill-color: #FFFFFF;\n",
              "      --disabled-bg-color: #3B4455;\n",
              "      --disabled-fill-color: #666;\n",
              "  }\n",
              "\n",
              "  .colab-df-quickchart {\n",
              "    background-color: var(--bg-color);\n",
              "    border: none;\n",
              "    border-radius: 50%;\n",
              "    cursor: pointer;\n",
              "    display: none;\n",
              "    fill: var(--fill-color);\n",
              "    height: 32px;\n",
              "    padding: 0;\n",
              "    width: 32px;\n",
              "  }\n",
              "\n",
              "  .colab-df-quickchart:hover {\n",
              "    background-color: var(--hover-bg-color);\n",
              "    box-shadow: 0 1px 2px rgba(60, 64, 67, 0.3), 0 1px 3px 1px rgba(60, 64, 67, 0.15);\n",
              "    fill: var(--button-hover-fill-color);\n",
              "  }\n",
              "\n",
              "  .colab-df-quickchart-complete:disabled,\n",
              "  .colab-df-quickchart-complete:disabled:hover {\n",
              "    background-color: var(--disabled-bg-color);\n",
              "    fill: var(--disabled-fill-color);\n",
              "    box-shadow: none;\n",
              "  }\n",
              "\n",
              "  .colab-df-spinner {\n",
              "    border: 2px solid var(--fill-color);\n",
              "    border-color: transparent;\n",
              "    border-bottom-color: var(--fill-color);\n",
              "    animation:\n",
              "      spin 1s steps(1) infinite;\n",
              "  }\n",
              "\n",
              "  @keyframes spin {\n",
              "    0% {\n",
              "      border-color: transparent;\n",
              "      border-bottom-color: var(--fill-color);\n",
              "      border-left-color: var(--fill-color);\n",
              "    }\n",
              "    20% {\n",
              "      border-color: transparent;\n",
              "      border-left-color: var(--fill-color);\n",
              "      border-top-color: var(--fill-color);\n",
              "    }\n",
              "    30% {\n",
              "      border-color: transparent;\n",
              "      border-left-color: var(--fill-color);\n",
              "      border-top-color: var(--fill-color);\n",
              "      border-right-color: var(--fill-color);\n",
              "    }\n",
              "    40% {\n",
              "      border-color: transparent;\n",
              "      border-right-color: var(--fill-color);\n",
              "      border-top-color: var(--fill-color);\n",
              "    }\n",
              "    60% {\n",
              "      border-color: transparent;\n",
              "      border-right-color: var(--fill-color);\n",
              "    }\n",
              "    80% {\n",
              "      border-color: transparent;\n",
              "      border-right-color: var(--fill-color);\n",
              "      border-bottom-color: var(--fill-color);\n",
              "    }\n",
              "    90% {\n",
              "      border-color: transparent;\n",
              "      border-bottom-color: var(--fill-color);\n",
              "    }\n",
              "  }\n",
              "</style>\n",
              "\n",
              "  <script>\n",
              "    async function quickchart(key) {\n",
              "      const quickchartButtonEl =\n",
              "        document.querySelector('#' + key + ' button');\n",
              "      quickchartButtonEl.disabled = true;  // To prevent multiple clicks.\n",
              "      quickchartButtonEl.classList.add('colab-df-spinner');\n",
              "      try {\n",
              "        const charts = await google.colab.kernel.invokeFunction(\n",
              "            'suggestCharts', [key], {});\n",
              "      } catch (error) {\n",
              "        console.error('Error during call to suggestCharts:', error);\n",
              "      }\n",
              "      quickchartButtonEl.classList.remove('colab-df-spinner');\n",
              "      quickchartButtonEl.classList.add('colab-df-quickchart-complete');\n",
              "    }\n",
              "    (() => {\n",
              "      let quickchartButtonEl =\n",
              "        document.querySelector('#df-1529cb20-cc99-414d-8685-23183d06f843 button');\n",
              "      quickchartButtonEl.style.display =\n",
              "        google.colab.kernel.accessAllowed ? 'block' : 'none';\n",
              "    })();\n",
              "  </script>\n",
              "</div>\n",
              "\n",
              "    </div>\n",
              "  </div>\n"
            ]
          },
          "metadata": {},
          "execution_count": 37
        }
      ],
      "source": [
        "df.head(5)"
      ]
    },
    {
      "cell_type": "markdown",
      "metadata": {
        "id": "cbitCWDBBdEh"
      },
      "source": [
        "# Text preprocessing"
      ]
    },
    {
      "cell_type": "code",
      "execution_count": null,
      "metadata": {
        "colab": {
          "base_uri": "https://localhost:8080/",
          "height": 53
        },
        "id": "9gG63hE7_51n",
        "outputId": "80584f7f-9d36-4b23-d601-4951a95ff328"
      },
      "outputs": [
        {
          "data": {
            "application/vnd.google.colaboratory.intrinsic+json": {
              "type": "string"
            },
            "text/plain": [
              "'Color of product: Medium Grey Heather. Quick-drying socks for your daily workout.Leave the sweat behind you. These training socks are cushioned at the heel and toe to keep you comfortable while you pound the pavement. They have a stretchy, moisture-wicking construction that hugs the foot at the arch.'"
            ]
          },
          "execution_count": 250,
          "metadata": {},
          "output_type": "execute_result"
        }
      ],
      "source": [
        "df['description'].iloc[0]"
      ]
    },
    {
      "cell_type": "code",
      "execution_count": null,
      "metadata": {
        "colab": {
          "base_uri": "https://localhost:8080/"
        },
        "id": "eS7wDTEOBiCy",
        "outputId": "3a4ad093-b509-4f37-c5fe-d270211cb2f5"
      },
      "outputs": [
        {
          "name": "stderr",
          "output_type": "stream",
          "text": [
            "[nltk_data] Downloading package punkt to /root/nltk_data...\n",
            "[nltk_data]   Package punkt is already up-to-date!\n",
            "[nltk_data] Downloading package wordnet to /root/nltk_data...\n",
            "[nltk_data]   Package wordnet is already up-to-date!\n",
            "[nltk_data] Downloading package stopwords to /root/nltk_data...\n",
            "[nltk_data]   Package stopwords is already up-to-date!\n"
          ]
        },
        {
          "data": {
            "text/plain": [
              "True"
            ]
          },
          "execution_count": 251,
          "metadata": {},
          "output_type": "execute_result"
        }
      ],
      "source": [
        "import re\n",
        "import nltk\n",
        "from nltk.stem import WordNetLemmatizer\n",
        "from nltk.corpus import stopwords\n",
        "from nltk.tokenize import sent_tokenize, word_tokenize\n",
        "\n",
        "nltk.download('punkt')\n",
        "nltk.download('wordnet')\n",
        "nltk.download('stopwords')"
      ]
    },
    {
      "cell_type": "code",
      "execution_count": null,
      "metadata": {
        "id": "g4H7bMESqhTi"
      },
      "outputs": [],
      "source": [
        "con_appos = {\n",
        "    \"rep\": \"represent\",\n",
        "    \"hoodie\": \"hooded sweatshirt\",\n",
        "    \"tee\": \"t-shirt\",\n",
        "    \"zip\": \"zip-up\",\n",
        "    \"maxi\": \"maxi dress\",\n",
        "    \"mini\": \"mini dress\",\n",
        "    \"midi\": \"midi dress\",\n",
        "    \"denim\": \"denim fabric\",\n",
        "    \"chino\": \"chino pants\",\n",
        "    \"cropped\": \"cropped length\",\n",
        "    \"floral\": \"floral print\",\n",
        "    \"striped\": \"striped pattern\",\n",
        "    \"polka\": \"polka dot\",\n",
        "    \"v-neck\": \"v-neckline\",\n",
        "    \"crew-neck\": \"crew neckline\",\n",
        "    \"slim\": \"slim fit\",\n",
        "    \"loose\": \"loose fit\",\n",
        "    \"bootcut\": \"bootcut style\",\n",
        "    \"skinny\": \"skinny fit\",\n",
        "    \"isn't\": \"is not\",\n",
        "    \"it'd\": \"it would\",\n",
        "    \"it'd've\": \"it would have\",\n",
        "    \"it'll\": \"it will\",\n",
        "    \"it'll've\": \"it will have\",\n",
        "    \"it's\": \"it is\",\n",
        "    \"mayn't\": \"may not\",\n",
        "    \"might've\": \"might have\",\n",
        "    \"mightn't\": \"might not\",\n",
        "    \"mightn't've\": \"might not have\",\n",
        "    \"must've\": \"must have\",\n",
        "    \"mustn't\": \"must not\",\n",
        "    \"mustn't've\": \"must not have\",\n",
        "    \"needn't\": \"need not\",\n",
        "    \"needn't've\": \"need not have\",\n",
        "    \"so've\": \"so have\",\n",
        "    \"so's\": \"so is\",\n",
        "    \"that'd\": \"that would\",\n",
        "    \"that'd've\": \"that would have\",\n",
        "    \"that's\": \"that is\",\n",
        "    \"there'd\": \"there would\",\n",
        "    \"there'd've\": \"there would have\",\n",
        "    \"there's\": \"there is\",\n",
        "    \"they'd\": \"they would\",\n",
        "    \"they'd've\": \"they would have\",\n",
        "    \"they'll\": \"they will\",\n",
        "    \"they'll've\": \"they will have\",\n",
        "    \"they're\": \"they are\",\n",
        "    \"they've\": \"they have\",\n",
        "    \"we're\": \"we are\",\n",
        "    \"to've\": \"to have\"\n",
        "}"
      ]
    },
    {
      "cell_type": "code",
      "execution_count": null,
      "metadata": {
        "id": "86bsWoxDgux2"
      },
      "outputs": [],
      "source": [
        "def preprocessed_description(text):\n",
        "    # Ensure the input text is a string\n",
        "    text = str(text)\n",
        "\n",
        "    # Convert the text to lowercase\n",
        "    text = text.lower()\n",
        "\n",
        "    # Change abbreviated words into full words\n",
        "    pattern = re.compile(r'\\b(' + r'|'.join(con_appos.keys()) + r')\\b')\n",
        "    text = pattern.sub(lambda x: con_appos[x.group()], text)\n",
        "\n",
        "    # Remove special characters and numbers\n",
        "    text = re.sub(r'\\W', ' ', text)\n",
        "    text = re.sub(r'\\d+', ' ', text)\n",
        "\n",
        "    # Remove html tags\n",
        "    Tag_re = re.compile(r'<[^>]+>')\n",
        "    text  = Tag_re.sub(' ', text)\n",
        "\n",
        "    # Remove multiple spaces\n",
        "    text = re.sub(r'\\s+', ' ', text)\n",
        "\n",
        "    # Remove stopwords\n",
        "    stopwords_list = [word for word in stopwords.words('english') if word != 'not']\n",
        "    pattern = re.compile(r'\\b(' + r'|'.join(stopwords_list) + r')\\b\\s*')\n",
        "    text = pattern.sub('', text)\n",
        "\n",
        "    # Lemmatize words\n",
        "    lemmatizer = WordNetLemmatizer()\n",
        "    text = ' '.join(lemmatizer.lemmatize(word) for word in nltk.word_tokenize(text))\n",
        "\n",
        "    return text"
      ]
    },
    {
      "cell_type": "code",
      "execution_count": null,
      "metadata": {
        "id": "_nVpzYHxFkvd"
      },
      "outputs": [],
      "source": [
        "# Apply preprocessing to the 'description' column\n",
        "df['description'] = df['description'].apply(preprocessed_description)"
      ]
    },
    {
      "cell_type": "code",
      "execution_count": null,
      "metadata": {
        "colab": {
          "base_uri": "https://localhost:8080/",
          "height": 53
        },
        "id": "tGoiLR5mFlmB",
        "outputId": "8c17031d-758a-4e38-de48-8ace94c315b3"
      },
      "outputs": [
        {
          "data": {
            "application/vnd.google.colaboratory.intrinsic+json": {
              "type": "string"
            },
            "text/plain": [
              "'color product medium grey heather quick drying sock daily workout leave sweat behind training sock cushioned heel toe keep comfortable pound pavement stretchy moisture wicking construction hug foot arch'"
            ]
          },
          "execution_count": 255,
          "metadata": {},
          "output_type": "execute_result"
        }
      ],
      "source": [
        "df['description'].iloc[0]"
      ]
    },
    {
      "cell_type": "markdown",
      "metadata": {
        "id": "d0T4C-tzuk8N"
      },
      "source": [
        "# Images preprocessing"
      ]
    },
    {
      "cell_type": "code",
      "execution_count": null,
      "metadata": {
        "colab": {
          "base_uri": "https://localhost:8080/",
          "height": 88
        },
        "id": "-N9UXz8d7Y7k",
        "outputId": "d2e84c8d-e0dd-4930-bf69-c6326fc254b8"
      },
      "outputs": [
        {
          "data": {
            "application/vnd.google.colaboratory.intrinsic+json": {
              "type": "string"
            },
            "text/plain": [
              "\"['https://assets.adidas.com/images/w_600,f_auto,q_auto/52052736a9894fd8a968a831002d9dd0_9366/Athletic_Cushioned_No-Show_Socks_6_Pairs_Grey_BH9578_03_standard.jpg', 'https://assets.adidas.com/images/w_600,f_auto,q_auto/43fa1c06675c4a58adc5aca0018aab7a_9366/Athletic_Cushioned_No-Show_Socks_6_Pairs_Grey_BH9578_41_detail_hover.jpg', 'https://assets.adidas.com/images/w_600,f_auto,q_auto/1e46e7d880374fb7b4d6aca0018affa9_9366/Athletic_Cushioned_No-Show_Socks_6_Pairs_Grey_BH9578_42_detail.jpg', 'https://assets.adidas.com/images/w_600,f_auto,q_auto/39074b0b9d1a48dab24aaca1000046fd_9366/Athletic_Cushioned_No-Show_Socks_6_Pairs_Grey_BH9578_43_detail.jpg']\""
            ]
          },
          "execution_count": 256,
          "metadata": {},
          "output_type": "execute_result"
        }
      ],
      "source": [
        "df['images'].loc[0]"
      ]
    },
    {
      "cell_type": "markdown",
      "metadata": {
        "id": "9pd3pxlPxTOR"
      },
      "source": [
        "Convert link str into list"
      ]
    },
    {
      "cell_type": "code",
      "execution_count": null,
      "metadata": {
        "id": "562DHD1m8hZK"
      },
      "outputs": [],
      "source": [
        "import ast\n",
        "\n",
        "def convert_to_list(link_str):\n",
        "    try:\n",
        "        # Check if the link_str contains \"~\" delimiter\n",
        "        if \"~\" in link_str:\n",
        "            link_list = link_str.split(\"~\")\n",
        "        else:\n",
        "            # Convert the string representation of a list to an actual list\n",
        "            link_list = ast.literal_eval(link_str)\n",
        "\n",
        "        # Strip whitespaces around each link\n",
        "        return [link.strip() for link in link_list]\n",
        "    except (SyntaxError, ValueError):\n",
        "        print(f\"Error converting {link_str} to a list\")\n",
        "        return None"
      ]
    },
    {
      "cell_type": "code",
      "execution_count": null,
      "metadata": {
        "id": "MSx_kE_Pc83Q"
      },
      "outputs": [],
      "source": [
        "df['images'] = df['images'].apply(lambda x: convert_to_list(x))"
      ]
    },
    {
      "cell_type": "code",
      "execution_count": null,
      "metadata": {
        "id": "2s0Y9lmbhK5G"
      },
      "outputs": [],
      "source": [
        "df = df.dropna(subset=['images']).reset_index(drop=True)"
      ]
    },
    {
      "cell_type": "code",
      "execution_count": null,
      "metadata": {
        "id": "5Arr-Q_Sn2uO"
      },
      "outputs": [],
      "source": [
        "def filter_invalid_urls(image_urls):\n",
        "    # Filter out URLs that are base64-encoded images\n",
        "    valid_urls = [url for url in image_urls if 'data:image' not in url]\n",
        "    return valid_urls\n",
        "\n",
        "# Example usage:\n",
        "df['images'] = df['images'].apply(filter_invalid_urls)"
      ]
    },
    {
      "cell_type": "code",
      "execution_count": null,
      "metadata": {
        "id": "3Zru6hLFrpac"
      },
      "outputs": [],
      "source": [
        "import concurrent.futures\n",
        "import requests\n",
        "\n",
        "def is_valid_url(url):\n",
        "    try:\n",
        "        # Check if the URL starts with a valid protocol\n",
        "        if url.startswith(('http://', 'https://')):\n",
        "            # Check if the URL is reachable (status code 200)\n",
        "            response = requests.head(url, timeout=5)  # Set a timeout to avoid long waits\n",
        "            return response.status_code == 200\n",
        "        else:\n",
        "            print(f\"Invalid URL format: {url}\")\n",
        "            return False\n",
        "    except requests.RequestException as e:\n",
        "        print(f\"Error checking {url}: {e}\")\n",
        "        return False\n",
        "\n",
        "def filter_valid_urls(image_urls):\n",
        "    valid_urls = []\n",
        "\n",
        "    # Iterate through each URL in the list\n",
        "    for url in image_urls:\n",
        "        # Check if the URL is valid\n",
        "        if is_valid_url(url):\n",
        "            # Add the valid URL to the list and break the loop\n",
        "            valid_urls.append(url)\n",
        "            break\n",
        "\n",
        "    return valid_urls\n",
        "\n",
        "# Example usage:\n",
        "df['images'] = df['images'].apply(filter_valid_urls)"
      ]
    },
    {
      "cell_type": "code",
      "execution_count": null,
      "metadata": {
        "colab": {
          "base_uri": "https://localhost:8080/"
        },
        "id": "xPJW8Ht1JWSZ",
        "outputId": "f17f3cac-91db-4a2b-a097-370a9d716a2e"
      },
      "outputs": [
        {
          "data": {
            "text/plain": [
              "['https://static.nike.com/a/images/t_default/f727409b-e588-4825-899b-01111af7a30c/florida-back-2-school-menscrew-neck-long-sleeve-t-shirt-BzzQ7f.png']"
            ]
          },
          "execution_count": 264,
          "metadata": {},
          "output_type": "execute_result"
        }
      ],
      "source": [
        "df['images'].iloc[345]"
      ]
    },
    {
      "cell_type": "code",
      "execution_count": null,
      "metadata": {
        "id": "Ih7HDGlcJui_"
      },
      "outputs": [],
      "source": [
        "# Save the preprocessed DataFrame to a pickle file\n",
        "df.to_pickle('preprocessed_data.pkl')"
      ]
    },
    {
      "cell_type": "code",
      "execution_count": null,
      "metadata": {
        "id": "1s98uWzMrMdW"
      },
      "outputs": [],
      "source": [
        "df = pd.read_pickle('preprocessed_data.pkl')"
      ]
    },
    {
      "cell_type": "code",
      "execution_count": null,
      "metadata": {
        "colab": {
          "base_uri": "https://localhost:8080/"
        },
        "id": "1ehIbUEBrQTh",
        "outputId": "97d85779-75b8-41f3-e70a-b43a3ae37e01"
      },
      "outputs": [
        {
          "output_type": "execute_result",
          "data": {
            "text/plain": [
              "(5918, 5)"
            ]
          },
          "metadata": {},
          "execution_count": 6
        }
      ],
      "source": [
        "df.shape"
      ]
    }
  ],
  "metadata": {
    "colab": {
      "provenance": []
    },
    "kernelspec": {
      "display_name": "Python 3",
      "name": "python3"
    },
    "language_info": {
      "name": "python"
    }
  },
  "nbformat": 4,
  "nbformat_minor": 0
}