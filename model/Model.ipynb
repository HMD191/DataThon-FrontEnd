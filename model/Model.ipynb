{
  "cells": [
    {
      "cell_type": "code",
      "source": [
        "%%capture\n",
        "!pip install -U fashion-clip"
      ],
      "metadata": {
        "id": "BnEUWGWN-Wzb"
      },
      "execution_count": null,
      "outputs": []
    },
    {
      "cell_type": "code",
      "source": [
        "import sys\n",
        "# sys.path.append(\"fashion-clip/\")\n",
        "from fashion_clip.fashion_clip import FashionCLIP\n",
        "import pandas as pd\n",
        "import numpy as np\n",
        "from collections import Counter\n",
        "from PIL import Image\n",
        "import requests\n",
        "from io import BytesIO"
      ],
      "metadata": {
        "id": "96yvzUIT-UZU"
      },
      "execution_count": null,
      "outputs": []
    },
    {
      "cell_type": "code",
      "source": [
        "%%capture\n",
        "fclip = FashionCLIP('fashion-clip')"
      ],
      "metadata": {
        "id": "9K2l8Wyk-eXo"
      },
      "execution_count": null,
      "outputs": []
    },
    {
      "cell_type": "code",
      "source": [
        "df = pd.read_pickle('preprocessed_data.pkl')"
      ],
      "metadata": {
        "id": "FvLou0D8-RLO"
      },
      "execution_count": null,
      "outputs": []
    },
    {
      "cell_type": "code",
      "source": [
        "df.shape"
      ],
      "metadata": {
        "colab": {
          "base_uri": "https://localhost:8080/"
        },
        "id": "oDvwLiWh-hJS",
        "outputId": "41354f66-59f7-4cda-fb08-5136e0be69da"
      },
      "execution_count": null,
      "outputs": [
        {
          "output_type": "execute_result",
          "data": {
            "text/plain": [
              "(5918, 5)"
            ]
          },
          "metadata": {},
          "execution_count": 5
        }
      ]
    },
    {
      "cell_type": "code",
      "source": [
        "import pickle\n",
        "import numpy as np\n",
        "from fashion_clip.fashion_clip import FashionCLIP\n",
        "import tensorflow as tf\n",
        "from transformers import ViTImageProcessor, ViTForImageClassification\n",
        "from PIL import Image\n",
        "import requests\n",
        "import concurrent.futures\n",
        "from itertools import zip_longest\n",
        "\n",
        "def chunked(iterable, n):\n",
        "    args = [iter(iterable)] * n\n",
        "    return zip_longest(*args)\n",
        "\n",
        "def process_image(args):\n",
        "    image_url, name, url = args\n",
        "    image_url = image_url[0]  # Assuming the image URL is the first element in the list\n",
        "\n",
        "    # Load the image from the URL\n",
        "    image = Image.open(requests.get(image_url, stream=True).raw)\n",
        "\n",
        "    # Convert the image to RGB if it has a single channel\n",
        "    if image.mode != \"RGB\":\n",
        "        image = image.convert(\"RGB\")\n",
        "\n",
        "    return image, name, url\n",
        "\n",
        "def classify_product(description):\n",
        "    # Load the FashionCLIP model\n",
        "    with open('fclip_model.pkl', 'rb') as file:\n",
        "        loaded_model_data = pickle.load(file)\n",
        "\n",
        "    loaded_image_embeddings = loaded_model_data['image_embeddings']\n",
        "    loaded_text_embeddings = loaded_model_data['text_embeddings']\n",
        "    loaded_images = loaded_model_data['images']\n",
        "\n",
        "    fclip = FashionCLIP('fashion-clip')\n",
        "\n",
        "    # Encode the query description\n",
        "    # Encode multiple descriptions in a batch\n",
        "    query_text_embedding = fclip.encode_text([description], batch_size=32)[0]\n",
        "\n",
        "    # Calculate similarity scores between the query and loaded embeddings\n",
        "    similarity_scores = np.dot(query_text_embedding, loaded_image_embeddings.T)\n",
        "\n",
        "    # Sort indices based on similarity scores in descending order\n",
        "    sorted_indices = np.argsort(similarity_scores)[::-1]\n",
        "\n",
        "    # Get the URLs of the top K most similar images\n",
        "    top_k = 15\n",
        "    top_similar_image_urls = [loaded_images[i] for i in sorted_indices[:top_k]]\n",
        "\n",
        "    # Create a new DataFrame containing information of products in top_similar_image_urls\n",
        "    df_top_similar = df[df['images'].apply(lambda x: any(link in x for link in top_similar_image_urls))]\n",
        "\n",
        "    # Get the URL, name, and image information of products in top_similar_image_urls\n",
        "    result_urls = df_top_similar['url'].tolist()\n",
        "    result_names = df_top_similar['name'].tolist()\n",
        "    result_images = df_top_similar['images'].tolist()\n",
        "\n",
        "    # Load the ViT model\n",
        "    processor = ViTImageProcessor.from_pretrained('google/vit-base-patch16-224')\n",
        "    model = ViTForImageClassification.from_pretrained('google/vit-base-patch16-224')\n",
        "\n",
        "    # List of class labels\n",
        "    labels = model.config.id2label\n",
        "\n",
        "    # Keyword lists for classification\n",
        "    shirt_labels = ['belts', 'blazers', 'dresses', 'dupatta', 'jackets', 'kurtas', 'kurtis', 'lehenga choli', 'nehru jackets', 'rain jacket', 'bulletproof vest', 'cardigan',\n",
        "           'rompers', 'shirts', 'shrug', 'suspenders', 'sweaters', 'sweatshirt', 'tops', 'T-shirt,', 'tunics', 'waistcoat', 'hoodie', 'jerrsey', 'tee shirt', 'maillot', 'fur coat'\n",
        "           'wool', 'woolen', 'woollen', 'fur coat', 'brassiere', 'bra', 'bandeau', 'tank suit', 'brassiere', 'bandeau', 'sarong', 'pajama', 'pyjama', 'pj\\'s', 'jammies', 'velvet',\n",
        "           'bulletproof vest', 'maillot', 'tank suit', 'miniskirt', 'mini', 'sleeping bag', 'trench coat', 'lab coat', 'laboratory coat', 'velvet', 'fur coat', 'horizontal bar, high bar']\n",
        "    pants_labels = ['capris', 'churidar', 'jeans', 'jeggings', 'leggings', 'patiala', 'salwar', 'salwar dupatta', 'shorts', 'skirts', 'stockings',\n",
        "           'swimwear', 'tights', 'track pants', 'tracksuits', 'trousers', 'blue jean', 'jean', 'denim', 'swimming trunks', 'bathing trunks']\n",
        "    shoes_labels = ['casual shoes', 'flats', 'flip flops', 'formal shoes', 'heels', 'sandal', 'holster', 'clog', 'geta', 'patten', 'sabot',\n",
        "           'sandals', 'sports sandals', 'sports shoes', 'boot', 'running shoe', 'hair slide', 'sabot', 'cowboy hat', 'ten-gallon hat']\n",
        "\n",
        "    # Predict and classify each image\n",
        "\n",
        "    # Use concurrent processing to download images concurrently\n",
        "    with concurrent.futures.ThreadPoolExecutor() as executor:\n",
        "        image_results = list(executor.map(process_image, zip(result_images, result_names, result_urls)))\n",
        "\n",
        "    class_dict = {}\n",
        "\n",
        "    for (image, name, url), (image_url, _, _) in zip(image_results, zip(result_images, result_names, result_urls)):\n",
        "        # Prepare the input data\n",
        "        inputs = processor(images=np.array(image), return_tensors=\"pt\")\n",
        "\n",
        "        # Predict the class label\n",
        "        outputs = model(**inputs)\n",
        "        predicted_class_index = outputs.logits.argmax(dim=1).item()\n",
        "        predicted_label = labels[predicted_class_index]\n",
        "\n",
        "        # Classify the label as \"pants\", \"shirt\", \"shoes\", or \"others\"\n",
        "        if any(label in predicted_label for label in pants_labels):\n",
        "            predicted_label = \"pants\"\n",
        "        elif any(label in predicted_label for label in shirt_labels):\n",
        "            predicted_label = \"shirt\"\n",
        "        elif any(label in predicted_label for label in shoes_labels):\n",
        "            predicted_label = \"shoes\"\n",
        "        else:\n",
        "            predicted_label = \"others\"\n",
        "\n",
        "        # Store the product information in the dictionary based on the label\n",
        "        if predicted_label not in class_dict:\n",
        "            class_dict[predicted_label] = []\n",
        "        class_dict[predicted_label].append((name, image_url, url))\n",
        "\n",
        "    return class_dict"
      ],
      "metadata": {
        "id": "sujsqOTaKZMm"
      },
      "execution_count": null,
      "outputs": []
    },
    {
      "cell_type": "code",
      "source": [
        "# Example usage\n",
        "description = \"summer outfit\"\n",
        "results = classify_product(description)"
      ],
      "metadata": {
        "colab": {
          "base_uri": "https://localhost:8080/",
          "height": 66,
          "referenced_widgets": [
            "a4f1c37dfe994bc5b1ff0e19fc4321d8",
            "545db74c72f84d70a20d83669ad12705",
            "67ee2b21bd084854a797faddadf4a91b",
            "ee7b40213da7433fa620614c3827f252",
            "5f328eb9e6a94d16b770335073e33b60",
            "4f7f7816e54442e287312d090c8219a4",
            "db775027c6154fb587f9d2bce61eaa29",
            "ad16556f2dad477bab752e451adae613",
            "d9d79f9293cd4e0eb92a58f3aa8d7529",
            "3740ce08c0a34461aa1d89245ddc9097",
            "07a9e806284b495492647e71d131a6da"
          ]
        },
        "id": "HnkyFkdkgp-G",
        "outputId": "1b2ed5d9-f0aa-4c12-9e0e-a52ac8c2abea"
      },
      "execution_count": null,
      "outputs": [
        {
          "output_type": "display_data",
          "data": {
            "text/plain": [
              "Map:   0%|          | 0/1 [00:00<?, ? examples/s]"
            ],
            "application/vnd.jupyter.widget-view+json": {
              "version_major": 2,
              "version_minor": 0,
              "model_id": "a4f1c37dfe994bc5b1ff0e19fc4321d8"
            }
          },
          "metadata": {}
        },
        {
          "output_type": "stream",
          "name": "stderr",
          "text": [
            "1it [00:00,  6.00it/s]\n"
          ]
        }
      ]
    },
    {
      "cell_type": "code",
      "source": [
        "for label, products in results.items():\n",
        "    print(f'Label: {label}')\n",
        "    for name, image_url, url in products:\n",
        "        print(f'Name: {name}')\n",
        "        print(f'Image: {image_url}')\n",
        "        print(f'URL: {url}')\n",
        "        print(\"---\")"
      ],
      "metadata": {
        "colab": {
          "base_uri": "https://localhost:8080/"
        },
        "id": "q-LuiWUvKZFl",
        "outputId": "113383f5-b08c-4ba3-a48c-0f2a66199ac5"
      },
      "execution_count": null,
      "outputs": [
        {
          "output_type": "stream",
          "name": "stdout",
          "text": [
            "Label: shirt\n",
            "Name: Camo Shorts and Tee Set\n",
            "Image: ['https://assets.adidas.com/images/w_600,f_auto,q_auto/9a8aac00270b43f08612e5cfdb20dfa8_9366/Camo_Shorts_and_Tee_Set_Black_IP0257_01_laydown.jpg']\n",
            "URL: https://www.adidas.com/us/camo-shorts-and-tee-set/IP0257.html\n",
            "---\n",
            "Name: Nike Sportswear Collection\n",
            "Image: ['https://static.nike.com/a/images/t_default/3817406d-9c4b-4c65-9881-75d1dd1359f7/sportswear-collection-womens-mock-neck-cropped-tank-NHbLf5.png']\n",
            "URL: https://www.nike.com/t/sportswear-collection-womens-mock-neck-cropped-tank-NHbLf5/FB8343-309\n",
            "---\n",
            "Name: Nike\n",
            "Image: ['https://static.nike.com/a/images/t_default/bf2540b9-8f71-4679-bef8-ffdb0ad3827d/baby-12-24m-tank-and-shorts-set-P9p54q.png']\n",
            "URL: https://www.nike.com/t/baby-12-24m-tank-and-shorts-set-P9p54q/16J438-GB7\n",
            "---\n",
            "Name: Nike Coral Reef Tee and Shorts Set\n",
            "Image: ['https://static.nike.com/a/images/t_default/c4c18b50-ffb6-45bc-95c7-396c02ff8efe/coral-reef-tee-and-shorts-set-baby-2-piece-dri-fit-set-QCBh8N.png']\n",
            "URL: https://www.nike.com/t/coral-reef-tee-and-shorts-set-baby-2-piece-dri-fit-set-QCBh8N/16K942-B9F\n",
            "---\n",
            "Name: Nike\n",
            "Image: ['https://static.nike.com/a/images/t_default/bf2540b9-8f71-4679-bef8-ffdb0ad3827d/baby-12-24m-tank-and-shorts-set-P9p54q.png']\n",
            "URL: https://www.nike.com/t/baby-12-24m-tank-and-shorts-set-P9p54q/16J438-GB7\n",
            "---\n",
            "Name: Graphic Logo Shorts and Tee Set\n",
            "Image: ['https://assets.adidas.com/images/w_600,f_auto,q_auto/5a730b830c3c4b2a88cdae87010eab26_9366/Graphic_Logo_Shorts_and_Tee_Set_White_HK2944_01_laydown.jpg']\n",
            "URL: https://www.adidas.com/us/graphic-logo-shorts-and-tee-set/HK2944.html\n",
            "---\n",
            "Name: Adicolor Shorts and Tee Set\n",
            "Image: ['https://assets.adidas.com/images/w_600,f_auto,q_auto/3f0b9fd8ac014509854cae610146ffa1_9366/Adicolor_Shorts_and_Tee_Set_White_HK2968_01_laydown.jpg']\n",
            "URL: https://www.adidas.com/us/adicolor-shorts-and-tee-set/HK2968.html\n",
            "---\n",
            "Name: Island Club Allover Print Bralette\n",
            "Image: ['https://assets.adidas.com/images/w_600,f_auto,q_auto/20bd0ea7ef71440c87601f6bc3e0616e_9366/Island_Club_Allover_Print_Bralette_Pink_IU0644_HM1.jpg']\n",
            "URL: https://www.adidas.com/us/island-club-allover-print-bralette/IU0644.html\n",
            "---\n",
            "Name: Lounge French Terry Bra Top\n",
            "Image: ['https://assets.adidas.com/images/w_600,f_auto,q_auto/b22bf37267b8415b9ecdafd200cece70_9366/Lounge_French_Terry_Bra_Top_Blue_IU3168_21_model.jpg']\n",
            "URL: https://www.adidas.com/us/lounge-french-terry-bra-top/IU3168.html\n",
            "---\n",
            "Name: Trefoil Tank Top\n",
            "Image: ['https://assets.adidas.com/images/w_600,f_auto,q_auto/9913587cdabe47a18858ad3753f75216_9366/Trefoil_Tank_Top_White_IP0679_01_laydown.jpg']\n",
            "URL: https://www.adidas.com/us/trefoil-tank-top/IP0679.html\n",
            "---\n",
            "Name: Camo Shorts and Tee Set\n",
            "Image: ['https://assets.adidas.com/images/w_600,f_auto,q_auto/9a8aac00270b43f08612e5cfdb20dfa8_9366/Camo_Shorts_and_Tee_Set_Black_IP0257_01_laydown.jpg']\n",
            "URL: https://www.adidas.com/us/camo-shorts-and-tee-set/IP0257.html\n",
            "---\n",
            "Name: Nike \"Let's Roll\" Dress\n",
            "Image: ['https://static.nike.com/a/images/t_default/334465e0-0979-4b2e-a704-0423ac622bcc/lets-roll-dress-baby-dress-048hvz.png']\n",
            "URL: https://www.nike.com/t/lets-roll-dress-baby-dress-048hvz/06K878-001\n",
            "---\n",
            "Name: Nike Sportswear Collection\n",
            "Image: ['https://static.nike.com/a/images/t_default/ba084cf3-abf5-45f3-a99d-a686bb8f0de2/sportswear-collection-womens-trouser-shorts-bPv0nw.png']\n",
            "URL: https://www.nike.com/t/sportswear-collection-womens-trouser-shorts-bPv0nw/FB8326-309\n",
            "---\n",
            "Label: others\n",
            "Name: Nike Digi Dye 3-Piece Bodysuit Box Set\n",
            "Image: ['https://static.nike.com/a/images/t_default/e55a8f04-4caa-4501-a26e-9ebf25384873/digi-dye-3-piece-bodysuit-box-set-baby-bodysuit-set-69g98X.png']\n",
            "URL: https://www.nike.com/t/digi-dye-3-piece-bodysuit-box-set-baby-bodysuit-set-69g98X/NN0909-U6B\n",
            "---\n",
            "Name: Nike 5-Piece Gift Set\n",
            "Image: ['https://static.nike.com/a/images/t_default/a11ca876-d8da-4c21-a91e-28bfd155051e/5-piece-gift-set-baby-5-piece-boxed-gift-set-f67Tqp.png']\n",
            "URL: https://www.nike.com/t/5-piece-gift-set-baby-5-piece-boxed-gift-set-f67Tqp/NN0932-U90\n",
            "---\n"
          ]
        }
      ]
    },
    {
      "cell_type": "code",
      "source": [
        "import pickle\n",
        "\n",
        "# Save the classify_product function as a pickle file\n",
        "with open('classify_product.pkl', 'wb') as file:\n",
        "    pickle.dump(classify_product, file)"
      ],
      "metadata": {
        "id": "R-D33XLdUP48"
      },
      "execution_count": null,
      "outputs": []
    }
  ],
  "metadata": {
    "colab": {
      "provenance": []
    },
    "kernelspec": {
      "display_name": "Python 3",
      "name": "python3"
    },
    "language_info": {
      "name": "python"
    },
    "widgets": {
      "application/vnd.jupyter.widget-state+json": {
        "a4f1c37dfe994bc5b1ff0e19fc4321d8": {
          "model_module": "@jupyter-widgets/controls",
          "model_name": "HBoxModel",
          "model_module_version": "1.5.0",
          "state": {
            "_dom_classes": [],
            "_model_module": "@jupyter-widgets/controls",
            "_model_module_version": "1.5.0",
            "_model_name": "HBoxModel",
            "_view_count": null,
            "_view_module": "@jupyter-widgets/controls",
            "_view_module_version": "1.5.0",
            "_view_name": "HBoxView",
            "box_style": "",
            "children": [
              "IPY_MODEL_545db74c72f84d70a20d83669ad12705",
              "IPY_MODEL_67ee2b21bd084854a797faddadf4a91b",
              "IPY_MODEL_ee7b40213da7433fa620614c3827f252"
            ],
            "layout": "IPY_MODEL_5f328eb9e6a94d16b770335073e33b60"
          }
        },
        "545db74c72f84d70a20d83669ad12705": {
          "model_module": "@jupyter-widgets/controls",
          "model_name": "HTMLModel",
          "model_module_version": "1.5.0",
          "state": {
            "_dom_classes": [],
            "_model_module": "@jupyter-widgets/controls",
            "_model_module_version": "1.5.0",
            "_model_name": "HTMLModel",
            "_view_count": null,
            "_view_module": "@jupyter-widgets/controls",
            "_view_module_version": "1.5.0",
            "_view_name": "HTMLView",
            "description": "",
            "description_tooltip": null,
            "layout": "IPY_MODEL_4f7f7816e54442e287312d090c8219a4",
            "placeholder": "​",
            "style": "IPY_MODEL_db775027c6154fb587f9d2bce61eaa29",
            "value": "Map: 100%"
          }
        },
        "67ee2b21bd084854a797faddadf4a91b": {
          "model_module": "@jupyter-widgets/controls",
          "model_name": "FloatProgressModel",
          "model_module_version": "1.5.0",
          "state": {
            "_dom_classes": [],
            "_model_module": "@jupyter-widgets/controls",
            "_model_module_version": "1.5.0",
            "_model_name": "FloatProgressModel",
            "_view_count": null,
            "_view_module": "@jupyter-widgets/controls",
            "_view_module_version": "1.5.0",
            "_view_name": "ProgressView",
            "bar_style": "success",
            "description": "",
            "description_tooltip": null,
            "layout": "IPY_MODEL_ad16556f2dad477bab752e451adae613",
            "max": 1,
            "min": 0,
            "orientation": "horizontal",
            "style": "IPY_MODEL_d9d79f9293cd4e0eb92a58f3aa8d7529",
            "value": 1
          }
        },
        "ee7b40213da7433fa620614c3827f252": {
          "model_module": "@jupyter-widgets/controls",
          "model_name": "HTMLModel",
          "model_module_version": "1.5.0",
          "state": {
            "_dom_classes": [],
            "_model_module": "@jupyter-widgets/controls",
            "_model_module_version": "1.5.0",
            "_model_name": "HTMLModel",
            "_view_count": null,
            "_view_module": "@jupyter-widgets/controls",
            "_view_module_version": "1.5.0",
            "_view_name": "HTMLView",
            "description": "",
            "description_tooltip": null,
            "layout": "IPY_MODEL_3740ce08c0a34461aa1d89245ddc9097",
            "placeholder": "​",
            "style": "IPY_MODEL_07a9e806284b495492647e71d131a6da",
            "value": " 1/1 [00:00&lt;00:00, 35.15 examples/s]"
          }
        },
        "5f328eb9e6a94d16b770335073e33b60": {
          "model_module": "@jupyter-widgets/base",
          "model_name": "LayoutModel",
          "model_module_version": "1.2.0",
          "state": {
            "_model_module": "@jupyter-widgets/base",
            "_model_module_version": "1.2.0",
            "_model_name": "LayoutModel",
            "_view_count": null,
            "_view_module": "@jupyter-widgets/base",
            "_view_module_version": "1.2.0",
            "_view_name": "LayoutView",
            "align_content": null,
            "align_items": null,
            "align_self": null,
            "border": null,
            "bottom": null,
            "display": null,
            "flex": null,
            "flex_flow": null,
            "grid_area": null,
            "grid_auto_columns": null,
            "grid_auto_flow": null,
            "grid_auto_rows": null,
            "grid_column": null,
            "grid_gap": null,
            "grid_row": null,
            "grid_template_areas": null,
            "grid_template_columns": null,
            "grid_template_rows": null,
            "height": null,
            "justify_content": null,
            "justify_items": null,
            "left": null,
            "margin": null,
            "max_height": null,
            "max_width": null,
            "min_height": null,
            "min_width": null,
            "object_fit": null,
            "object_position": null,
            "order": null,
            "overflow": null,
            "overflow_x": null,
            "overflow_y": null,
            "padding": null,
            "right": null,
            "top": null,
            "visibility": null,
            "width": null
          }
        },
        "4f7f7816e54442e287312d090c8219a4": {
          "model_module": "@jupyter-widgets/base",
          "model_name": "LayoutModel",
          "model_module_version": "1.2.0",
          "state": {
            "_model_module": "@jupyter-widgets/base",
            "_model_module_version": "1.2.0",
            "_model_name": "LayoutModel",
            "_view_count": null,
            "_view_module": "@jupyter-widgets/base",
            "_view_module_version": "1.2.0",
            "_view_name": "LayoutView",
            "align_content": null,
            "align_items": null,
            "align_self": null,
            "border": null,
            "bottom": null,
            "display": null,
            "flex": null,
            "flex_flow": null,
            "grid_area": null,
            "grid_auto_columns": null,
            "grid_auto_flow": null,
            "grid_auto_rows": null,
            "grid_column": null,
            "grid_gap": null,
            "grid_row": null,
            "grid_template_areas": null,
            "grid_template_columns": null,
            "grid_template_rows": null,
            "height": null,
            "justify_content": null,
            "justify_items": null,
            "left": null,
            "margin": null,
            "max_height": null,
            "max_width": null,
            "min_height": null,
            "min_width": null,
            "object_fit": null,
            "object_position": null,
            "order": null,
            "overflow": null,
            "overflow_x": null,
            "overflow_y": null,
            "padding": null,
            "right": null,
            "top": null,
            "visibility": null,
            "width": null
          }
        },
        "db775027c6154fb587f9d2bce61eaa29": {
          "model_module": "@jupyter-widgets/controls",
          "model_name": "DescriptionStyleModel",
          "model_module_version": "1.5.0",
          "state": {
            "_model_module": "@jupyter-widgets/controls",
            "_model_module_version": "1.5.0",
            "_model_name": "DescriptionStyleModel",
            "_view_count": null,
            "_view_module": "@jupyter-widgets/base",
            "_view_module_version": "1.2.0",
            "_view_name": "StyleView",
            "description_width": ""
          }
        },
        "ad16556f2dad477bab752e451adae613": {
          "model_module": "@jupyter-widgets/base",
          "model_name": "LayoutModel",
          "model_module_version": "1.2.0",
          "state": {
            "_model_module": "@jupyter-widgets/base",
            "_model_module_version": "1.2.0",
            "_model_name": "LayoutModel",
            "_view_count": null,
            "_view_module": "@jupyter-widgets/base",
            "_view_module_version": "1.2.0",
            "_view_name": "LayoutView",
            "align_content": null,
            "align_items": null,
            "align_self": null,
            "border": null,
            "bottom": null,
            "display": null,
            "flex": null,
            "flex_flow": null,
            "grid_area": null,
            "grid_auto_columns": null,
            "grid_auto_flow": null,
            "grid_auto_rows": null,
            "grid_column": null,
            "grid_gap": null,
            "grid_row": null,
            "grid_template_areas": null,
            "grid_template_columns": null,
            "grid_template_rows": null,
            "height": null,
            "justify_content": null,
            "justify_items": null,
            "left": null,
            "margin": null,
            "max_height": null,
            "max_width": null,
            "min_height": null,
            "min_width": null,
            "object_fit": null,
            "object_position": null,
            "order": null,
            "overflow": null,
            "overflow_x": null,
            "overflow_y": null,
            "padding": null,
            "right": null,
            "top": null,
            "visibility": null,
            "width": null
          }
        },
        "d9d79f9293cd4e0eb92a58f3aa8d7529": {
          "model_module": "@jupyter-widgets/controls",
          "model_name": "ProgressStyleModel",
          "model_module_version": "1.5.0",
          "state": {
            "_model_module": "@jupyter-widgets/controls",
            "_model_module_version": "1.5.0",
            "_model_name": "ProgressStyleModel",
            "_view_count": null,
            "_view_module": "@jupyter-widgets/base",
            "_view_module_version": "1.2.0",
            "_view_name": "StyleView",
            "bar_color": null,
            "description_width": ""
          }
        },
        "3740ce08c0a34461aa1d89245ddc9097": {
          "model_module": "@jupyter-widgets/base",
          "model_name": "LayoutModel",
          "model_module_version": "1.2.0",
          "state": {
            "_model_module": "@jupyter-widgets/base",
            "_model_module_version": "1.2.0",
            "_model_name": "LayoutModel",
            "_view_count": null,
            "_view_module": "@jupyter-widgets/base",
            "_view_module_version": "1.2.0",
            "_view_name": "LayoutView",
            "align_content": null,
            "align_items": null,
            "align_self": null,
            "border": null,
            "bottom": null,
            "display": null,
            "flex": null,
            "flex_flow": null,
            "grid_area": null,
            "grid_auto_columns": null,
            "grid_auto_flow": null,
            "grid_auto_rows": null,
            "grid_column": null,
            "grid_gap": null,
            "grid_row": null,
            "grid_template_areas": null,
            "grid_template_columns": null,
            "grid_template_rows": null,
            "height": null,
            "justify_content": null,
            "justify_items": null,
            "left": null,
            "margin": null,
            "max_height": null,
            "max_width": null,
            "min_height": null,
            "min_width": null,
            "object_fit": null,
            "object_position": null,
            "order": null,
            "overflow": null,
            "overflow_x": null,
            "overflow_y": null,
            "padding": null,
            "right": null,
            "top": null,
            "visibility": null,
            "width": null
          }
        },
        "07a9e806284b495492647e71d131a6da": {
          "model_module": "@jupyter-widgets/controls",
          "model_name": "DescriptionStyleModel",
          "model_module_version": "1.5.0",
          "state": {
            "_model_module": "@jupyter-widgets/controls",
            "_model_module_version": "1.5.0",
            "_model_name": "DescriptionStyleModel",
            "_view_count": null,
            "_view_module": "@jupyter-widgets/base",
            "_view_module_version": "1.2.0",
            "_view_name": "StyleView",
            "description_width": ""
          }
        }
      }
    }
  },
  "nbformat": 4,
  "nbformat_minor": 0
}